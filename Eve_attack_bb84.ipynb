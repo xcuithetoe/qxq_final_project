{
 "cells": [
  {
   "cell_type": "markdown",
   "metadata": {},
   "source": [
    "### Alice creates her key, encodes it with her bases, and tries to send it to Bob"
   ]
  },
  {
   "cell_type": "code",
   "execution_count": 39,
   "metadata": {},
   "outputs": [
    {
     "name": "stdout",
     "output_type": "stream",
     "text": [
      "Alice Key:  [0, 0, 1, 1, 1, 1, 1, 0, 0, 0, 0, 1, 0, 1, 1, 0, 1, 1, 1, 0]\n",
      "Alice Bases:  ['X', 'X', 'Z', 'Z', 'Z', 'Z', 'Z', 'Z', 'X', 'Z', 'X', 'Z', 'X', 'Z', 'Z', 'X', 'X', 'Z', 'Z', 'X']\n"
     ]
    }
   ],
   "source": [
    "from random import choices\n",
    "import cirq\n",
    "\n",
    "num_bits = 20\n",
    "\n",
    "encode_gates = {0: cirq.I, 1: cirq.X} # Gates that produce the 0 and 1 quantums states, which represents the keys\n",
    "basis_gates = {\"Z\": cirq.I, \"X\": cirq.H} # Gates that will create the correct qubit encryption\n",
    "\n",
    "message = \"Quantum Computing\"\n",
    "\n",
    "alice_key = choices([0, 1], k = num_bits)\n",
    "print(\"Alice Key: \", alice_key)\n",
    "alice_bases = choices(['Z', 'X'], k = num_bits)\n",
    "print(\"Alice Bases: \", alice_bases)\n",
    "\n",
    "alice_circuit = cirq.Circuit()\n",
    "qubits = cirq.NamedQubit.range(num_bits, prefix = 'q')\n",
    "\n",
    "for bit in range(num_bits):\n",
    "\n",
    " encode_value = alice_key[bit]\n",
    " encode_gate = encode_gates[encode_value]\n",
    "\n",
    " basis_value = alice_bases[bit]\n",
    " basis_gate = basis_gates[basis_value]\n",
    "\n",
    " qubit = qubits[bit]\n",
    " alice_circuit.append(encode_gate(qubit))\n",
    " alice_circuit.append(basis_gate(qubit))\n",
    "\n"
   ]
  },
  {
   "cell_type": "markdown",
   "metadata": {},
   "source": [
    "### But... it is intercepted by Eve.\n",
    "#### Three different attacks that Even can use:\n",
    "1. Measurement attack"
   ]
  },
  {
   "cell_type": "markdown",
   "metadata": {},
   "source": [
    "### The measurement attack:\n",
    "* Eve recieves Alice's qubits and measures all of them. Using the measurements, she infers the states of Alice's qubits, and sends her guesses over to Bob. In my scenario, Eve will simply send her measurements over to Bob. However, half of these guesses will be wrong because of the probabilitic nature of qubits in superposition. Thus, Bob will easily be able to detect a measurement attack."
   ]
  },
  {
   "cell_type": "code",
   "execution_count": 40,
   "metadata": {},
   "outputs": [
    {
     "data": {
      "text/html": [
       "<pre style=\"overflow: auto; white-space: pre;\">q0: ────M(&#x27;eve intercept&#x27;)───\n",
       "        │\n",
       "q1: ────M────────────────────\n",
       "        │\n",
       "q2: ────M────────────────────\n",
       "        │\n",
       "q3: ────M────────────────────\n",
       "        │\n",
       "q4: ────M────────────────────\n",
       "        │\n",
       "q5: ────M────────────────────\n",
       "        │\n",
       "q6: ────M────────────────────\n",
       "        │\n",
       "q7: ────M────────────────────\n",
       "        │\n",
       "q8: ────M────────────────────\n",
       "        │\n",
       "q9: ────M────────────────────\n",
       "        │\n",
       "q10: ───M────────────────────\n",
       "        │\n",
       "q11: ───M────────────────────\n",
       "        │\n",
       "q12: ───M────────────────────\n",
       "        │\n",
       "q13: ───M────────────────────\n",
       "        │\n",
       "q14: ───M────────────────────\n",
       "        │\n",
       "q15: ───M────────────────────\n",
       "        │\n",
       "q16: ───M────────────────────\n",
       "        │\n",
       "q17: ───M────────────────────\n",
       "        │\n",
       "q18: ───M────────────────────\n",
       "        │\n",
       "q19: ───M────────────────────</pre>"
      ],
      "text/plain": [
       "q0: ────M('eve intercept')───\n",
       "        │\n",
       "q1: ────M────────────────────\n",
       "        │\n",
       "q2: ────M────────────────────\n",
       "        │\n",
       "q3: ────M────────────────────\n",
       "        │\n",
       "q4: ────M────────────────────\n",
       "        │\n",
       "q5: ────M────────────────────\n",
       "        │\n",
       "q6: ────M────────────────────\n",
       "        │\n",
       "q7: ────M────────────────────\n",
       "        │\n",
       "q8: ────M────────────────────\n",
       "        │\n",
       "q9: ────M────────────────────\n",
       "        │\n",
       "q10: ───M────────────────────\n",
       "        │\n",
       "q11: ───M────────────────────\n",
       "        │\n",
       "q12: ───M────────────────────\n",
       "        │\n",
       "q13: ───M────────────────────\n",
       "        │\n",
       "q14: ───M────────────────────\n",
       "        │\n",
       "q15: ───M────────────────────\n",
       "        │\n",
       "q16: ───M────────────────────\n",
       "        │\n",
       "q17: ───M────────────────────\n",
       "        │\n",
       "q18: ───M────────────────────\n",
       "        │\n",
       "q19: ───M────────────────────"
      ]
     },
     "execution_count": 40,
     "metadata": {},
     "output_type": "execute_result"
    }
   ],
   "source": [
    "eve_circuit = cirq.Circuit()\n",
    "eve_circuit.append(cirq.measure(qubits, key=\"eve intercept\"))# COMPLETE THIS CODE\n",
    "eve_circuit"
   ]
  },
  {
   "cell_type": "code",
   "execution_count": 41,
   "metadata": {},
   "outputs": [
    {
     "name": "stdout",
     "output_type": "stream",
     "text": [
      "q0: ────I───H───M('eve intercept')───\n",
      "                │\n",
      "q1: ────I───H───M────────────────────\n",
      "                │\n",
      "q2: ────X───I───M────────────────────\n",
      "                │\n",
      "q3: ────X───I───M────────────────────\n",
      "                │\n",
      "q4: ────X───I───M────────────────────\n",
      "                │\n",
      "q5: ────X───I───M────────────────────\n",
      "                │\n",
      "q6: ────X───I───M────────────────────\n",
      "                │\n",
      "q7: ────I───I───M────────────────────\n",
      "                │\n",
      "q8: ────I───H───M────────────────────\n",
      "                │\n",
      "q9: ────I───I───M────────────────────\n",
      "                │\n",
      "q10: ───I───H───M────────────────────\n",
      "                │\n",
      "q11: ───X───I───M────────────────────\n",
      "                │\n",
      "q12: ───I───H───M────────────────────\n",
      "                │\n",
      "q13: ───X───I───M────────────────────\n",
      "                │\n",
      "q14: ───X───I───M────────────────────\n",
      "                │\n",
      "q15: ───I───H───M────────────────────\n",
      "                │\n",
      "q16: ───X───H───M────────────────────\n",
      "                │\n",
      "q17: ───X───I───M────────────────────\n",
      "                │\n",
      "q18: ───X───I───M────────────────────\n",
      "                │\n",
      "q19: ───I───H───M────────────────────\n",
      "\n",
      "Eve's initial key:  [1 0 1 1 1 1 1 0 0 0 0 1 1 1 1 1 1 1 1 1]\n"
     ]
    }
   ],
   "source": [
    "eve_intercept_circuit = alice_circuit + eve_circuit\n",
    "\n",
    "sim = cirq.Simulator()\n",
    "results = sim.run(eve_intercept_circuit)\n",
    "eve_key = results.measurements['eve intercept'][0]\n",
    "\n",
    "print(eve_intercept_circuit)\n",
    "\n",
    "print('\\nEve\\'s initial key: ', eve_key)"
   ]
  },
  {
   "cell_type": "markdown",
   "metadata": {},
   "source": [
    "* **Eve then sends the zeros and ones to Bob** (no code necessary)\n",
    "* **Bob does his normal procedure to decrypt the qubits**"
   ]
  },
  {
   "cell_type": "code",
   "execution_count": 42,
   "metadata": {},
   "outputs": [
    {
     "name": "stdout",
     "output_type": "stream",
     "text": [
      "q0: ────H───M('bob key')───\n",
      "            │\n",
      "q1: ────H───M──────────────\n",
      "            │\n",
      "q2: ────H───M──────────────\n",
      "            │\n",
      "q3: ────I───M──────────────\n",
      "            │\n",
      "q4: ────I───M──────────────\n",
      "            │\n",
      "q5: ────H───M──────────────\n",
      "            │\n",
      "q6: ────H───M──────────────\n",
      "            │\n",
      "q7: ────H───M──────────────\n",
      "            │\n",
      "q8: ────I───M──────────────\n",
      "            │\n",
      "q9: ────H───M──────────────\n",
      "            │\n",
      "q10: ───H───M──────────────\n",
      "            │\n",
      "q11: ───I───M──────────────\n",
      "            │\n",
      "q12: ───I───M──────────────\n",
      "            │\n",
      "q13: ───H───M──────────────\n",
      "            │\n",
      "q14: ───H───M──────────────\n",
      "            │\n",
      "q15: ───I───M──────────────\n",
      "            │\n",
      "q16: ───H───M──────────────\n",
      "            │\n",
      "q17: ───I───M──────────────\n",
      "            │\n",
      "q18: ───H───M──────────────\n",
      "            │\n",
      "q19: ───H───M──────────────\n"
     ]
    }
   ],
   "source": [
    "bob_bases = choices([\"Z\", \"X\"], k=num_bits)# COMPLETE THIS CODE\n",
    "\n",
    "\n",
    "bob_circuit = cirq.Circuit()\n",
    "\n",
    "for bit in range(num_bits):# COMPLETE THIS CODE\n",
    "\n",
    "  basis_value = bob_bases[bit]# COMPLETE THIS CODE\n",
    "  basis_gate = basis_gates[basis_value]# COMPLETE THIS CODE\n",
    "\n",
    "  qubit = qubits[bit]# COMPLETE THIS CODE\n",
    "  bob_circuit.append(basis_gate(qubit))# COMPLETE THIS CODE\n",
    "\n",
    "bob_circuit.append(cirq.measure(qubits, key=\"bob key\"))# COMPLETE THIS CODE\n",
    "\n",
    "print(bob_circuit)"
   ]
  },
  {
   "cell_type": "markdown",
   "metadata": {},
   "source": [
    "* **The only caveat is, during measurement, we need to include the effects of Eve's measurement attack**"
   ]
  },
  {
   "cell_type": "code",
   "execution_count": 43,
   "metadata": {},
   "outputs": [
    {
     "name": "stdout",
     "output_type": "stream",
     "text": [
      "q0: ────I───H───I───H───M('eve intercept')───H───M('bob key')───\n",
      "                        │                        │\n",
      "q1: ────I───H───I───H───M────────────────────H───M──────────────\n",
      "                        │                        │\n",
      "q2: ────X───I───X───I───M────────────────────H───M──────────────\n",
      "                        │                        │\n",
      "q3: ────X───I───X───I───M────────────────────I───M──────────────\n",
      "                        │                        │\n",
      "q4: ────X───I───X───I───M────────────────────I───M──────────────\n",
      "                        │                        │\n",
      "q5: ────X───I───X───I───M────────────────────H───M──────────────\n",
      "                        │                        │\n",
      "q6: ────X───I───X───I───M────────────────────H───M──────────────\n",
      "                        │                        │\n",
      "q7: ────I───I───I───I───M────────────────────H───M──────────────\n",
      "                        │                        │\n",
      "q8: ────I───H───I───H───M────────────────────I───M──────────────\n",
      "                        │                        │\n",
      "q9: ────I───I───I───I───M────────────────────H───M──────────────\n",
      "                        │                        │\n",
      "q10: ───I───H───I───H───M────────────────────H───M──────────────\n",
      "                        │                        │\n",
      "q11: ───X───I───X───I───M────────────────────I───M──────────────\n",
      "                        │                        │\n",
      "q12: ───I───H───I───H───M────────────────────I───M──────────────\n",
      "                        │                        │\n",
      "q13: ───X───I───X───I───M────────────────────H───M──────────────\n",
      "                        │                        │\n",
      "q14: ───X───I───X───I───M────────────────────H───M──────────────\n",
      "                        │                        │\n",
      "q15: ───I───H───I───H───M────────────────────I───M──────────────\n",
      "                        │                        │\n",
      "q16: ───X───H───X───H───M────────────────────H───M──────────────\n",
      "                        │                        │\n",
      "q17: ───X───I───X───I───M────────────────────I───M──────────────\n",
      "                        │                        │\n",
      "q18: ───X───I───X───I───M────────────────────H───M──────────────\n",
      "                        │                        │\n",
      "q19: ───I───H───I───H───M────────────────────H───M──────────────\n"
     ]
    }
   ],
   "source": [
    "bb84_circuit = alice_circuit + eve_intercept_circuit + bob_circuit\n",
    "print(bb84_circuit)"
   ]
  },
  {
   "cell_type": "markdown",
   "metadata": {},
   "source": [
    "* **Create a shared final key. This final key should not match**"
   ]
  },
  {
   "cell_type": "code",
   "execution_count": 44,
   "metadata": {},
   "outputs": [
    {
     "ename": "IndexError",
     "evalue": "index 10 is out of bounds for axis 0 with size 10",
     "output_type": "error",
     "traceback": [
      "\u001b[1;31m---------------------------------------------------------------------------\u001b[0m",
      "\u001b[1;31mIndexError\u001b[0m                                Traceback (most recent call last)",
      "\u001b[1;32m<ipython-input-44-92905de03553>\u001b[0m in \u001b[0;36m<module>\u001b[1;34m\u001b[0m\n\u001b[0;32m      5\u001b[0m     \u001b[1;32mif\u001b[0m \u001b[0malice_bases\u001b[0m\u001b[1;33m[\u001b[0m\u001b[0mbit\u001b[0m\u001b[1;33m]\u001b[0m \u001b[1;33m==\u001b[0m \u001b[0mbob_bases\u001b[0m\u001b[1;33m[\u001b[0m\u001b[0mbit\u001b[0m\u001b[1;33m]\u001b[0m\u001b[1;33m:\u001b[0m\u001b[1;33m\u001b[0m\u001b[1;33m\u001b[0m\u001b[0m\n\u001b[0;32m      6\u001b[0m         \u001b[0mfinal_alice_key\u001b[0m\u001b[1;33m.\u001b[0m\u001b[0mappend\u001b[0m\u001b[1;33m(\u001b[0m\u001b[0malice_key\u001b[0m\u001b[1;33m[\u001b[0m\u001b[0mbit\u001b[0m\u001b[1;33m]\u001b[0m\u001b[1;33m)\u001b[0m\u001b[1;33m\u001b[0m\u001b[1;33m\u001b[0m\u001b[0m\n\u001b[1;32m----> 7\u001b[1;33m         \u001b[0mfinal_bob_key\u001b[0m\u001b[1;33m.\u001b[0m\u001b[0mappend\u001b[0m\u001b[1;33m(\u001b[0m\u001b[0mbob_key\u001b[0m\u001b[1;33m[\u001b[0m\u001b[0mbit\u001b[0m\u001b[1;33m]\u001b[0m\u001b[1;33m)\u001b[0m\u001b[1;33m\u001b[0m\u001b[1;33m\u001b[0m\u001b[0m\n\u001b[0m\u001b[0;32m      8\u001b[0m \u001b[0mprint\u001b[0m\u001b[1;33m(\u001b[0m\u001b[1;34m\"Final Alice key: \"\u001b[0m\u001b[1;33m,\u001b[0m \u001b[0mfinal_alice_key\u001b[0m\u001b[1;33m)\u001b[0m\u001b[1;33m\u001b[0m\u001b[1;33m\u001b[0m\u001b[0m\n\u001b[0;32m      9\u001b[0m \u001b[0mprint\u001b[0m\u001b[1;33m(\u001b[0m\u001b[1;34m\"Final Bob key: \"\u001b[0m\u001b[1;33m,\u001b[0m \u001b[0mfinal_bob_key\u001b[0m\u001b[1;33m)\u001b[0m\u001b[1;33m\u001b[0m\u001b[1;33m\u001b[0m\u001b[0m\n",
      "\u001b[1;31mIndexError\u001b[0m: index 10 is out of bounds for axis 0 with size 10"
     ]
    }
   ],
   "source": [
    "\n",
    "final_alice_key = []\n",
    "final_bob_key = []\n",
    "\n",
    "for bit in range(num_bits):\n",
    "    if alice_bases[bit] == bob_bases[bit]:\n",
    "        final_alice_key.append(alice_key[bit])\n",
    "        final_bob_key.append(bob_key[bit])\n",
    "print(\"Final Alice key: \", final_alice_key)\n",
    "print(\"Final Bob key: \", final_bob_key)"
   ]
  },
  {
   "cell_type": "markdown",
   "metadata": {},
   "source": [
    "* **Statistically, Alice's key and Bob's key should only match 50%-ish**"
   ]
  },
  {
   "cell_type": "code",
   "execution_count": null,
   "metadata": {},
   "outputs": [
    {
     "name": "stdout",
     "output_type": "stream",
     "text": [
      "Percentage of Alice's final key that matches with Bob's final key:  0.4\n"
     ]
    }
   ],
   "source": [
    "total_agree = 0\n",
    "\n",
    "for i in range(len(final_bob_key)):\n",
    "    if final_bob_key[i]==final_alice_key[i]:\n",
    "        total_agree += 1\n",
    "\n",
    "print(\"Percentage of Alice's final key that matches with Bob's final key: \", (total_agree/len(final_alice_key)))\n",
    "    "
   ]
  },
  {
   "cell_type": "markdown",
   "metadata": {},
   "source": [
    "### Simulate the QKD circuit 50 times to see the average effects of the eavesdropper"
   ]
  },
  {
   "cell_type": "code",
   "execution_count": 45,
   "metadata": {},
   "outputs": [
    {
     "data": {
      "image/png": "[encoded data removed]",
      "text/plain": [
       "<Figure size 432x288 with 1 Axes>"
      ]
     },
     "metadata": {
      "needs_background": "light"
     },
     "output_type": "display_data"
    }
   ],
   "source": [
    "def simulate():\n",
    "    '''\n",
    "    Create Bob's key\n",
    "    '''\n",
    "    sim = cirq.Simulator()\n",
    "    results = sim.run(bb84_circuit)\n",
    "    bob_key = results.measurements['bob key'][0]\n",
    "    \n",
    "    '''\n",
    "    Create final shared keys\n",
    "    '''\n",
    "    final_alice_key = []\n",
    "    final_bob_key = []\n",
    "\n",
    "    for bit in range(num_bits):\n",
    "        if alice_bases[bit] == bob_bases[bit]:\n",
    "            final_alice_key.append(alice_key[bit])\n",
    "            final_bob_key.append(bob_key[bit])\n",
    "\n",
    "    '''\n",
    "    Create the percentage of same elements in Alice and Bob's respective keys\n",
    "    '''    \n",
    "    total_agree = 0\n",
    "    for i in range(len(final_bob_key)):\n",
    "        if final_bob_key[i]==final_alice_key[i]:\n",
    "            total_agree += 1\n",
    "    return (total_agree/len(final_alice_key))\n",
    "\n",
    "num_runs = 50\n",
    "percentages = []\n",
    "for i in range(num_runs):\n",
    "    percentages.append(simulate())\n",
    "\n",
    "import matplotlib.pyplot as plt\n",
    "\n",
    "def bar_chart(percentage_list):\n",
    "    # Define the x-axis values as indices of the list\n",
    "    x_values = range(len(percentage_list))\n",
    "    average_percentage = sum(percentage_list) / len(percentage_list)\n",
    "    # Create a bar chart\n",
    "    plt.bar(x_values, percentage_list, color='skyblue')\n",
    "    \n",
    "    # Add labels and title\n",
    "    plt.xlabel('Simulation Index')\n",
    "    plt.ylabel('Percentage')\n",
    "    plt.title('Percent similarity between Alice and Bob keys with eavesdropper')\n",
    "    \n",
    "    plt.axhline(y=average_percentage, color='red', linestyle='--', label=f'Average: {average_percentage*100:.1f}%')\n",
    "    # Show plot\n",
    "    plt.show()\n",
    "\n",
    "bar_chart(percentages)"
   ]
  }
 ],
 "metadata": {
  "kernelspec": {
   "display_name": "base",
   "language": "python",
   "name": "python3"
  },
  "language_info": {
   "codemirror_mode": {
    "name": "ipython",
    "version": 3
   },
   "file_extension": ".py",
   "mimetype": "text/x-python",
   "name": "python",
   "nbconvert_exporter": "python",
   "pygments_lexer": "ipython3",
   "version": "3.8.8"
  }
 },
 "nbformat": 4,
 "nbformat_minor": 2
}
