{
 "cells": [
  {
   "cell_type": "markdown",
   "metadata": {},
   "source": [
    "# Work in progress!"
   ]
  },
  {
   "cell_type": "markdown",
   "metadata": {},
   "source": [
    "### Alice creates her key, encodes it with her bases, and tries to send it to Bob"
   ]
  },
  {
   "cell_type": "code",
   "execution_count": 1,
   "metadata": {},
   "outputs": [
    {
     "name": "stdout",
     "output_type": "stream",
     "text": [
      "Alice Key:  [1, 0, 0, 0, 1, 0, 1, 0, 1, 1]\n",
      "Alice Bases:  ['X', 'Z', 'X', 'X', 'X', 'X', 'Z', 'X', 'X', 'X']\n",
      "q0: ───X───H───\n",
      "\n",
      "q1: ───I───I───\n",
      "\n",
      "q2: ───I───H───\n",
      "\n",
      "q3: ───I───H───\n",
      "\n",
      "q4: ───X───H───\n",
      "\n",
      "q5: ───I───H───\n",
      "\n",
      "q6: ───X───I───\n",
      "\n",
      "q7: ───I───H───\n",
      "\n",
      "q8: ───X───H───\n",
      "\n",
      "q9: ───X───H───\n"
     ]
    }
   ],
   "source": [
    "from random import choices\n",
    "import cirq\n",
    "\n",
    "num_bits = 10\n",
    "\n",
    "encode_gates = {0: cirq.I, 1: cirq.X} # Gates that produce the 0 and 1 quantums states, which represents the keys\n",
    "basis_gates = {\"Z\": cirq.I, \"X\": cirq.H} # Gates that will create the correct qubit encryption\n",
    "\n",
    "message = \"Quantum Computing\"\n",
    "\n",
    "alice_key = choices([0, 1], k = num_bits)\n",
    "print(\"Alice Key: \", alice_key)\n",
    "alice_bases = choices(['Z', 'X'], k = num_bits)\n",
    "print(\"Alice Bases: \", alice_bases)\n",
    "\n",
    "alice_circuit = cirq.Circuit()\n",
    "qubits = cirq.NamedQubit.range(num_bits, prefix = 'q')\n",
    "\n",
    "for bit in range(num_bits):\n",
    "\n",
    " encode_value = alice_key[bit]\n",
    " encode_gate = encode_gates[encode_value]\n",
    "\n",
    " basis_value = alice_bases[bit]\n",
    " basis_gate = basis_gates[basis_value]\n",
    "\n",
    " qubit = qubits[bit]\n",
    " alice_circuit.append(encode_gate(qubit))\n",
    " alice_circuit.append(basis_gate(qubit))\n",
    "print(alice_circuit)"
   ]
  },
  {
   "cell_type": "markdown",
   "metadata": {},
   "source": [
    "### Add noise to our model\n",
    "* QKD is meant to be done over large distances through noisy mediums such as the atmosphere. Thus, an accurate model of QKD must include noise.\n",
    "* For this model, I will use depolarizing noise, where X, Y, and Z gates are applied randomly. This depolarizing noise will be applied to a specific moment in the circuit - specifically, the moment when Alice sends her qubits to Bob."
   ]
  },
  {
   "cell_type": "code",
   "execution_count": 4,
   "metadata": {},
   "outputs": [
    {
     "name": "stdout",
     "output_type": "stream",
     "text": [
      "q0: ───D(0.05)───\n",
      "\n",
      "q1: ───D(0.05)───\n",
      "\n",
      "q2: ───D(0.05)───\n",
      "\n",
      "q3: ───D(0.05)───\n",
      "\n",
      "q4: ───D(0.05)───\n",
      "\n",
      "q5: ───D(0.05)───\n",
      "\n",
      "q6: ───D(0.05)───\n",
      "\n",
      "q7: ───D(0.05)───\n",
      "\n",
      "q8: ───D(0.05)───\n",
      "\n",
      "q9: ───D(0.05)───\n"
     ]
    }
   ],
   "source": [
    "noisy_circuit = cirq.Circuit()\n",
    "qubits = cirq.NamedQubit.range(num_bits, prefix = 'q')\n",
    "\n",
    "noise = cirq.depolarize(0.05)\n",
    "noisy_circuit.append(noise.on_each(qubits))\n",
    "\n",
    "print(noisy_circuit)"
   ]
  },
  {
   "cell_type": "markdown",
   "metadata": {},
   "source": [
    "### The measurement attack:\n",
    "* Eve recieves Alice's qubits and measures all of them. Using the measurements, she infers the states of Alice's qubits, and sends her guesses over to Bob. In my scenario, Eve will simply send her measurements over to Bob. However, half of these guesses will be wrong because of the probabilitic nature of qubits in superposition. Thus, Bob will easily be able to detect a measurement attack."
   ]
  },
  {
   "cell_type": "code",
   "execution_count": 5,
   "metadata": {},
   "outputs": [
    {
     "data": {
      "text/html": [
       "<pre style=\"overflow: auto; white-space: pre;\">q0: ───M(&#x27;eve intercept&#x27;)───\n",
       "       │\n",
       "q1: ───M────────────────────\n",
       "       │\n",
       "q2: ───M────────────────────\n",
       "       │\n",
       "q3: ───M────────────────────\n",
       "       │\n",
       "q4: ───M────────────────────\n",
       "       │\n",
       "q5: ───M────────────────────\n",
       "       │\n",
       "q6: ───M────────────────────\n",
       "       │\n",
       "q7: ───M────────────────────\n",
       "       │\n",
       "q8: ───M────────────────────\n",
       "       │\n",
       "q9: ───M────────────────────</pre>"
      ],
      "text/plain": [
       "q0: ───M('eve intercept')───\n",
       "       │\n",
       "q1: ───M────────────────────\n",
       "       │\n",
       "q2: ───M────────────────────\n",
       "       │\n",
       "q3: ───M────────────────────\n",
       "       │\n",
       "q4: ───M────────────────────\n",
       "       │\n",
       "q5: ───M────────────────────\n",
       "       │\n",
       "q6: ───M────────────────────\n",
       "       │\n",
       "q7: ───M────────────────────\n",
       "       │\n",
       "q8: ───M────────────────────\n",
       "       │\n",
       "q9: ───M────────────────────"
      ]
     },
     "execution_count": 5,
     "metadata": {},
     "output_type": "execute_result"
    }
   ],
   "source": [
    "eve_circuit = cirq.Circuit()\n",
    "eve_circuit.append(cirq.measure(qubits, key=\"eve intercept\"))# COMPLETE THIS CODE\n",
    "eve_circuit"
   ]
  },
  {
   "cell_type": "code",
   "execution_count": 7,
   "metadata": {},
   "outputs": [
    {
     "name": "stdout",
     "output_type": "stream",
     "text": [
      "q0: ───X───H───D(0.05)───M('eve intercept')───\n",
      "                         │\n",
      "q1: ───I───I───D(0.05)───M────────────────────\n",
      "                         │\n",
      "q2: ───I───H───D(0.05)───M────────────────────\n",
      "                         │\n",
      "q3: ───I───H───D(0.05)───M────────────────────\n",
      "                         │\n",
      "q4: ───X───H───D(0.05)───M────────────────────\n",
      "                         │\n",
      "q5: ───I───H───D(0.05)───M────────────────────\n",
      "                         │\n",
      "q6: ───X───I───D(0.05)───M────────────────────\n",
      "                         │\n",
      "q7: ───I───H───D(0.05)───M────────────────────\n",
      "                         │\n",
      "q8: ───X───H───D(0.05)───M────────────────────\n",
      "                         │\n",
      "q9: ───X───H───D(0.05)───M────────────────────\n",
      "\n",
      "Eve's initial key:  [1 0 1 1 1 0 0 1 0 0]\n"
     ]
    }
   ],
   "source": [
    "eve_intercept_circuit = alice_circuit + noisy_circuit + eve_circuit\n",
    "\n",
    "sim = cirq.Simulator()\n",
    "results = sim.run(eve_intercept_circuit)\n",
    "eve_key = results.measurements['eve intercept'][0]\n",
    "\n",
    "print(eve_intercept_circuit)\n",
    "\n",
    "print('\\nEve\\'s initial key: ', eve_key)"
   ]
  },
  {
   "cell_type": "markdown",
   "metadata": {},
   "source": [
    "#### Even then sends her measured qubits to Bob in a noisy environment. \n",
    "* The same depolarizing noise is applied.\n",
    "#### Bob applies the normal procedure to get his key"
   ]
  },
  {
   "cell_type": "code",
   "execution_count": 8,
   "metadata": {},
   "outputs": [
    {
     "name": "stdout",
     "output_type": "stream",
     "text": [
      "q0: ───I───M('bob key')───\n",
      "           │\n",
      "q1: ───I───M──────────────\n",
      "           │\n",
      "q2: ───H───M──────────────\n",
      "           │\n",
      "q3: ───H───M──────────────\n",
      "           │\n",
      "q4: ───I───M──────────────\n",
      "           │\n",
      "q5: ───H───M──────────────\n",
      "           │\n",
      "q6: ───H───M──────────────\n",
      "           │\n",
      "q7: ───H───M──────────────\n",
      "           │\n",
      "q8: ───H───M──────────────\n",
      "           │\n",
      "q9: ───I───M──────────────\n"
     ]
    }
   ],
   "source": [
    "bob_bases = choices([\"Z\", \"X\"], k=num_bits)# COMPLETE THIS CODE\n",
    "\n",
    "\n",
    "bob_circuit = cirq.Circuit()\n",
    "\n",
    "for bit in range(num_bits):# COMPLETE THIS CODE\n",
    "\n",
    "  basis_value = bob_bases[bit]# COMPLETE THIS CODE\n",
    "  basis_gate = basis_gates[basis_value]# COMPLETE THIS CODE\n",
    "\n",
    "  qubit = qubits[bit]# COMPLETE THIS CODE\n",
    "  bob_circuit.append(basis_gate(qubit))# COMPLETE THIS CODE\n",
    "\n",
    "bob_circuit.append(cirq.measure(qubits, key=\"bob key\"))# COMPLETE THIS CODE\n",
    "\n",
    "print(bob_circuit)"
   ]
  },
  {
   "cell_type": "code",
   "execution_count": 9,
   "metadata": {},
   "outputs": [
    {
     "name": "stdout",
     "output_type": "stream",
     "text": [
      "q0: ───X───H───D(0.05)───X───H───D(0.05)───M('eve intercept')───D(0.05)───I───M('bob key')───\n",
      "                                           │                                  │\n",
      "q1: ───I───I───D(0.05)───I───I───D(0.05)───M────────────────────D(0.05)───I───M──────────────\n",
      "                                           │                                  │\n",
      "q2: ───I───H───D(0.05)───I───H───D(0.05)───M────────────────────D(0.05)───H───M──────────────\n",
      "                                           │                                  │\n",
      "q3: ───I───H───D(0.05)───I───H───D(0.05)───M────────────────────D(0.05)───H───M──────────────\n",
      "                                           │                                  │\n",
      "q4: ───X───H───D(0.05)───X───H───D(0.05)───M────────────────────D(0.05)───I───M──────────────\n",
      "                                           │                                  │\n",
      "q5: ───I───H───D(0.05)───I───H───D(0.05)───M────────────────────D(0.05)───H───M──────────────\n",
      "                                           │                                  │\n",
      "q6: ───X───I───D(0.05)───X───I───D(0.05)───M────────────────────D(0.05)───H───M──────────────\n",
      "                                           │                                  │\n",
      "q7: ───I───H───D(0.05)───I───H───D(0.05)───M────────────────────D(0.05)───H───M──────────────\n",
      "                                           │                                  │\n",
      "q8: ───X───H───D(0.05)───X───H───D(0.05)───M────────────────────D(0.05)───H───M──────────────\n",
      "                                           │                                  │\n",
      "q9: ───X───H───D(0.05)───X───H───D(0.05)───M────────────────────D(0.05)───I───M──────────────\n"
     ]
    }
   ],
   "source": [
    "bb84_circuit = alice_circuit + noisy_circuit + eve_intercept_circuit + noisy_circuit + bob_circuit\n",
    "print(bb84_circuit)"
   ]
  },
  {
   "cell_type": "code",
   "execution_count": 10,
   "metadata": {},
   "outputs": [
    {
     "name": "stdout",
     "output_type": "stream",
     "text": [
      "\n",
      "Bob's initial key:  [1 0 1 0 1 0 1 1 0 1]\n"
     ]
    }
   ],
   "source": [
    "sim = cirq.Simulator()\n",
    "results = sim.run(bb84_circuit)\n",
    "bob_key = results.measurements['bob key'][0]\n",
    "\n",
    "print('\\nBob\\'s initial key: ', bob_key)"
   ]
  },
  {
   "cell_type": "markdown",
   "metadata": {},
   "source": [
    "### Bob and Alice attempt to create a shared final key. \n",
    "* This final key should not match, both because of Eve's interception and because of the noise."
   ]
  },
  {
   "cell_type": "code",
   "execution_count": 11,
   "metadata": {},
   "outputs": [
    {
     "name": "stdout",
     "output_type": "stream",
     "text": [
      "Final Alice key:  [0, 0, 0, 0, 0, 1]\n",
      "Final Bob key:  [0, 1, 0, 0, 1, 0]\n"
     ]
    }
   ],
   "source": [
    "final_alice_key = []\n",
    "final_bob_key = []\n",
    "\n",
    "for bit in range(num_bits):\n",
    "    if alice_bases[bit] == bob_bases[bit]:\n",
    "        final_alice_key.append(alice_key[bit])\n",
    "        final_bob_key.append(bob_key[bit])\n",
    "print(\"Final Alice key: \", final_alice_key)\n",
    "print(\"Final Bob key: \", final_bob_key)"
   ]
  },
  {
   "cell_type": "markdown",
   "metadata": {},
   "source": [
    "* **Statistically, Alice's key and Bob's key should only match 50%-ish**"
   ]
  },
  {
   "cell_type": "code",
   "execution_count": 12,
   "metadata": {},
   "outputs": [
    {
     "name": "stdout",
     "output_type": "stream",
     "text": [
      "Percentage of Alice's final key that matches with Bob's final key:  0.5\n"
     ]
    }
   ],
   "source": [
    "total_agree = 0\n",
    "\n",
    "for i in range(len(final_bob_key)):\n",
    "    if final_bob_key[i]==final_alice_key[i]:\n",
    "        total_agree += 1\n",
    "\n",
    "print(\"Percentage of Alice's final key that matches with Bob's final key: \", (total_agree/len(final_alice_key)))\n",
    "    "
   ]
  }
 ],
 "metadata": {
  "kernelspec": {
   "display_name": "base",
   "language": "python",
   "name": "python3"
  },
  "language_info": {
   "codemirror_mode": {
    "name": "ipython",
    "version": 3
   },
   "file_extension": ".py",
   "mimetype": "text/x-python",
   "name": "python",
   "nbconvert_exporter": "python",
   "pygments_lexer": "ipython3",
   "version": "3.8.8"
  }
 },
 "nbformat": 4,
 "nbformat_minor": 2
}
