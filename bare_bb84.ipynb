{
 "cells": [
  {
   "cell_type": "code",
   "execution_count": 8,
   "metadata": {},
   "outputs": [],
   "source": [
    "from random import choices\n",
    "import cirq\n"
   ]
  },
  {
   "cell_type": "markdown",
   "metadata": {},
   "source": [
    "### Initiate Constants"
   ]
  },
  {
   "cell_type": "code",
   "execution_count": 17,
   "metadata": {},
   "outputs": [],
   "source": [
    "num_bits = 10\n",
    "\n",
    "encode_gates = {0: cirq.I, 1: cirq.X} # Gates that produce the 0 and 1 quantums states, which represents the keys\n",
    "basis_gates = {\"Z\": cirq.I, \"X\": cirq.H} # Gates that will create the correct qubit encryption"
   ]
  },
  {
   "cell_type": "markdown",
   "metadata": {},
   "source": [
    "### Create Alice Key and Alice Encryption Bases"
   ]
  },
  {
   "cell_type": "code",
   "execution_count": 13,
   "metadata": {},
   "outputs": [
    {
     "data": {
      "text/plain": [
       "[0, 0, 1, 0, 1, 1, 0, 1, 1, 0]"
      ]
     },
     "execution_count": 13,
     "metadata": {},
     "output_type": "execute_result"
    }
   ],
   "source": [
    "alice_key = choices([0, 1], k = num_bits)\n",
    "alice_key"
   ]
  },
  {
   "cell_type": "code",
   "execution_count": 16,
   "metadata": {},
   "outputs": [
    {
     "data": {
      "text/plain": [
       "['X', 'Z', 'X', 'Z', 'Z', 'Z', 'Z', 'Z', 'Z', 'Z']"
      ]
     },
     "execution_count": 16,
     "metadata": {},
     "output_type": "execute_result"
    }
   ],
   "source": [
    "alice_bases = choices(['Z', 'X'], k = num_bits)\n",
    "alice_bases"
   ]
  },
  {
   "cell_type": "markdown",
   "metadata": {},
   "source": [
    "### Encode Alice Key into Qubits"
   ]
  },
  {
   "cell_type": "code",
   "execution_count": 20,
   "metadata": {},
   "outputs": [
    {
     "data": {
      "text/html": [
       "<pre style=\"overflow: auto; white-space: pre;\">q0: ───I───H───\n",
       "\n",
       "q1: ───I───I───\n",
       "\n",
       "q2: ───X───H───\n",
       "\n",
       "q3: ───I───I───\n",
       "\n",
       "q4: ───X───I───\n",
       "\n",
       "q5: ───X───I───\n",
       "\n",
       "q6: ───I───I───\n",
       "\n",
       "q7: ───X───I───\n",
       "\n",
       "q8: ───X───I───\n",
       "\n",
       "q9: ───I───I───</pre>"
      ],
      "text/plain": [
       "q0: ───I───H───\n",
       "\n",
       "q1: ───I───I───\n",
       "\n",
       "q2: ───X───H───\n",
       "\n",
       "q3: ───I───I───\n",
       "\n",
       "q4: ───X───I───\n",
       "\n",
       "q5: ───X───I───\n",
       "\n",
       "q6: ───I───I───\n",
       "\n",
       "q7: ───X───I───\n",
       "\n",
       "q8: ───X───I───\n",
       "\n",
       "q9: ───I───I───"
      ]
     },
     "execution_count": 20,
     "metadata": {},
     "output_type": "execute_result"
    }
   ],
   "source": [
    "alice_circuit = cirq.Circuit()\n",
    "qubits = cirq.NamedQubit.range(num_bits, prefix = 'q')\n",
    "\n",
    "for bit in range(num_bits):\n",
    "\n",
    " encode_value = alice_key[bit]\n",
    " encode_gate = encode_gates[encode_value]\n",
    "\n",
    " basis_value = alice_bases[bit]\n",
    " basis_gate = basis_gates[basis_value]\n",
    "\n",
    " qubit = qubits[bit]\n",
    " alice_circuit.append(encode_gate(qubit))\n",
    " alice_circuit.append(basis_gate(qubit))\n",
    "\n",
    "alice_circuit"
   ]
  },
  {
   "cell_type": "markdown",
   "metadata": {},
   "source": [
    "### Alice sends her encrypted key to Bob\n",
    "\n",
    "> _Vroom Vroom Vroom!_"
   ]
  },
  {
   "cell_type": "markdown",
   "metadata": {},
   "source": [
    "### Bob picks decryption bases"
   ]
  },
  {
   "cell_type": "code",
   "execution_count": 21,
   "metadata": {},
   "outputs": [
    {
     "data": {
      "text/plain": [
       "['X', 'X', 'Z', 'Z', 'X', 'Z', 'Z', 'Z', 'X', 'Z']"
      ]
     },
     "execution_count": 21,
     "metadata": {},
     "output_type": "execute_result"
    }
   ],
   "source": [
    "bob_bases = choices(['Z', 'X'], k = num_bits)\n",
    "bob_bases"
   ]
  },
  {
   "cell_type": "markdown",
   "metadata": {},
   "source": [
    "### Create Bob's decryption circuit"
   ]
  },
  {
   "cell_type": "code",
   "execution_count": 24,
   "metadata": {},
   "outputs": [
    {
     "data": {
      "text/html": [
       "<pre style=\"overflow: auto; white-space: pre;\">q0: ───H───M(&#x27;bob key&#x27;)───\n",
       "           │\n",
       "q1: ───H───M──────────────\n",
       "           │\n",
       "q2: ───I───M──────────────\n",
       "           │\n",
       "q3: ───I───M──────────────\n",
       "           │\n",
       "q4: ───H───M──────────────\n",
       "           │\n",
       "q5: ───I───M──────────────\n",
       "           │\n",
       "q6: ───I───M──────────────\n",
       "           │\n",
       "q7: ───I───M──────────────\n",
       "           │\n",
       "q8: ───H───M──────────────\n",
       "           │\n",
       "q9: ───I───M──────────────</pre>"
      ],
      "text/plain": [
       "q0: ───H───M('bob key')───\n",
       "           │\n",
       "q1: ───H───M──────────────\n",
       "           │\n",
       "q2: ───I───M──────────────\n",
       "           │\n",
       "q3: ───I───M──────────────\n",
       "           │\n",
       "q4: ───H───M──────────────\n",
       "           │\n",
       "q5: ───I───M──────────────\n",
       "           │\n",
       "q6: ───I───M──────────────\n",
       "           │\n",
       "q7: ───I───M──────────────\n",
       "           │\n",
       "q8: ───H───M──────────────\n",
       "           │\n",
       "q9: ───I───M──────────────"
      ]
     },
     "execution_count": 24,
     "metadata": {},
     "output_type": "execute_result"
    }
   ],
   "source": [
    "bob_circuit = cirq.Circuit()\n",
    "for bit in range(num_bits):\n",
    "    basis_value = bob_bases[bit]\n",
    "    basis_gate = basis_gates[basis_value]\n",
    "\n",
    "    qubit = qubits[bit]\n",
    "    bob_circuit.append(basis_gate(qubit))\n",
    "    \n",
    "bob_circuit.append(cirq.measure(qubits, key = 'bob decryption'))\n",
    "bob_circuit"
   ]
  },
  {
   "cell_type": "markdown",
   "metadata": {},
   "source": [
    "### Create Bob key"
   ]
  },
  {
   "cell_type": "markdown",
   "metadata": {},
   "source": []
  },
  {
   "cell_type": "code",
   "execution_count": 26,
   "metadata": {},
   "outputs": [
    {
     "data": {
      "text/plain": [
       "array([0, 0, 1, 0, 1, 1, 0, 1, 0, 0], dtype=int8)"
      ]
     },
     "execution_count": 26,
     "metadata": {},
     "output_type": "execute_result"
    }
   ],
   "source": [
    "bb84_circuit = alice_circuit + bob_circuit\n",
    "\n",
    "sim = cirq.Simulator()\n",
    "results = sim.run(bb84_circuit)\n",
    "bob_key = results.measurements['bob key'][0]\n",
    "bob_key"
   ]
  },
  {
   "cell_type": "markdown",
   "metadata": {},
   "source": [
    "### Create final shared key"
   ]
  },
  {
   "cell_type": "code",
   "execution_count": 27,
   "metadata": {},
   "outputs": [
    {
     "data": {
      "text/plain": [
       "[0, 0, 1, 0, 1, 0]"
      ]
     },
     "execution_count": 27,
     "metadata": {},
     "output_type": "execute_result"
    }
   ],
   "source": [
    "final_alice_key = []\n",
    "final_bob_key = []\n",
    "\n",
    "for bit in range(num_bits):\n",
    "    if alice_bases[bit] == bob_bases[bit]:\n",
    "        final_alice_key.append(alice_key[bit])\n",
    "        final_bob_key.append(bob_key[bit])\n",
    "final_alice_key\n"
   ]
  },
  {
   "cell_type": "code",
   "execution_count": null,
   "metadata": {},
   "outputs": [],
   "source": []
  }
 ],
 "metadata": {
  "kernelspec": {
   "display_name": "base",
   "language": "python",
   "name": "python3"
  },
  "language_info": {
   "codemirror_mode": {
    "name": "ipython",
    "version": 3
   },
   "file_extension": ".py",
   "mimetype": "text/x-python",
   "name": "python",
   "nbconvert_exporter": "python",
   "pygments_lexer": "ipython3",
   "version": "3.8.8"
  }
 },
 "nbformat": 4,
 "nbformat_minor": 2
}
