{
 "cells": [
  {
   "cell_type": "code",
   "execution_count": 45,
   "metadata": {},
   "outputs": [],
   "source": [
    "from random import choices\n",
    "import cirq\n"
   ]
  },
  {
   "cell_type": "markdown",
   "metadata": {},
   "source": [
    "### Initiate Constants"
   ]
  },
  {
   "cell_type": "code",
   "execution_count": 46,
   "metadata": {},
   "outputs": [],
   "source": [
    "num_bits = 10\n",
    "\n",
    "encode_gates = {0: cirq.I, 1: cirq.X} # Gates that produce the 0 and 1 quantums states, which represents the keys\n",
    "basis_gates = {\"Z\": cirq.I, \"X\": cirq.H} # Gates that will create the correct qubit encryption\n",
    "\n",
    "message = \"Quantum Computing\""
   ]
  },
  {
   "cell_type": "markdown",
   "metadata": {},
   "source": [
    "### Create Alice Key and Alice Encryption Bases"
   ]
  },
  {
   "cell_type": "code",
   "execution_count": 47,
   "metadata": {},
   "outputs": [
    {
     "data": {
      "text/plain": [
       "[1, 1, 0, 0, 0, 1, 1, 1, 0, 0]"
      ]
     },
     "execution_count": 47,
     "metadata": {},
     "output_type": "execute_result"
    }
   ],
   "source": [
    "alice_key = choices([0, 1], k = num_bits)\n",
    "alice_key"
   ]
  },
  {
   "cell_type": "code",
   "execution_count": 48,
   "metadata": {},
   "outputs": [
    {
     "data": {
      "text/plain": [
       "['X', 'Z', 'X', 'X', 'X', 'Z', 'X', 'Z', 'X', 'Z']"
      ]
     },
     "execution_count": 48,
     "metadata": {},
     "output_type": "execute_result"
    }
   ],
   "source": [
    "alice_bases = choices(['Z', 'X'], k = num_bits)\n",
    "alice_bases"
   ]
  },
  {
   "cell_type": "markdown",
   "metadata": {},
   "source": [
    "### Encode Alice Key into Qubits"
   ]
  },
  {
   "cell_type": "code",
   "execution_count": 49,
   "metadata": {},
   "outputs": [
    {
     "data": {
      "text/html": [
       "<pre style=\"overflow: auto; white-space: pre;\">q0: ───X───H───\n",
       "\n",
       "q1: ───X───I───\n",
       "\n",
       "q2: ───I───H───\n",
       "\n",
       "q3: ───I───H───\n",
       "\n",
       "q4: ───I───H───\n",
       "\n",
       "q5: ───X───I───\n",
       "\n",
       "q6: ───X───H───\n",
       "\n",
       "q7: ───X───I───\n",
       "\n",
       "q8: ───I───H───\n",
       "\n",
       "q9: ───I───I───</pre>"
      ],
      "text/plain": [
       "q0: ───X───H───\n",
       "\n",
       "q1: ───X───I───\n",
       "\n",
       "q2: ───I───H───\n",
       "\n",
       "q3: ───I───H───\n",
       "\n",
       "q4: ───I───H───\n",
       "\n",
       "q5: ───X───I───\n",
       "\n",
       "q6: ───X───H───\n",
       "\n",
       "q7: ───X───I───\n",
       "\n",
       "q8: ───I───H───\n",
       "\n",
       "q9: ───I───I───"
      ]
     },
     "execution_count": 49,
     "metadata": {},
     "output_type": "execute_result"
    }
   ],
   "source": [
    "alice_circuit = cirq.Circuit()\n",
    "qubits = cirq.NamedQubit.range(num_bits, prefix = 'q')\n",
    "\n",
    "for bit in range(num_bits):\n",
    "\n",
    " encode_value = alice_key[bit]\n",
    " encode_gate = encode_gates[encode_value]\n",
    "\n",
    " basis_value = alice_bases[bit]\n",
    " basis_gate = basis_gates[basis_value]\n",
    "\n",
    " qubit = qubits[bit]\n",
    " alice_circuit.append(encode_gate(qubit))\n",
    " alice_circuit.append(basis_gate(qubit))\n",
    "\n",
    "alice_circuit"
   ]
  },
  {
   "cell_type": "markdown",
   "metadata": {},
   "source": [
    "### Alice sends her encrypted key to Bob\n",
    "\n",
    "> _Vroom Vroom Vroom!_"
   ]
  },
  {
   "cell_type": "markdown",
   "metadata": {},
   "source": [
    "### Bob picks decryption bases"
   ]
  },
  {
   "cell_type": "code",
   "execution_count": 50,
   "metadata": {},
   "outputs": [
    {
     "data": {
      "text/plain": [
       "['Z', 'Z', 'X', 'X', 'X', 'Z', 'Z', 'Z', 'Z', 'X']"
      ]
     },
     "execution_count": 50,
     "metadata": {},
     "output_type": "execute_result"
    }
   ],
   "source": [
    "bob_bases = choices(['Z', 'X'], k = num_bits)\n",
    "bob_bases"
   ]
  },
  {
   "cell_type": "markdown",
   "metadata": {},
   "source": [
    "### Create Bob's decryption circuit"
   ]
  },
  {
   "cell_type": "code",
   "execution_count": 51,
   "metadata": {},
   "outputs": [
    {
     "data": {
      "text/html": [
       "<pre style=\"overflow: auto; white-space: pre;\">q0: ───I───M(&#x27;bob key&#x27;)───\n",
       "           │\n",
       "q1: ───I───M──────────────\n",
       "           │\n",
       "q2: ───H───M──────────────\n",
       "           │\n",
       "q3: ───H───M──────────────\n",
       "           │\n",
       "q4: ───H───M──────────────\n",
       "           │\n",
       "q5: ───I───M──────────────\n",
       "           │\n",
       "q6: ───I───M──────────────\n",
       "           │\n",
       "q7: ───I───M──────────────\n",
       "           │\n",
       "q8: ───I───M──────────────\n",
       "           │\n",
       "q9: ───H───M──────────────</pre>"
      ],
      "text/plain": [
       "q0: ───I───M('bob key')───\n",
       "           │\n",
       "q1: ───I───M──────────────\n",
       "           │\n",
       "q2: ───H───M──────────────\n",
       "           │\n",
       "q3: ───H───M──────────────\n",
       "           │\n",
       "q4: ───H───M──────────────\n",
       "           │\n",
       "q5: ───I───M──────────────\n",
       "           │\n",
       "q6: ───I───M──────────────\n",
       "           │\n",
       "q7: ───I───M──────────────\n",
       "           │\n",
       "q8: ───I───M──────────────\n",
       "           │\n",
       "q9: ───H───M──────────────"
      ]
     },
     "execution_count": 51,
     "metadata": {},
     "output_type": "execute_result"
    }
   ],
   "source": [
    "bob_circuit = cirq.Circuit()\n",
    "for bit in range(num_bits):\n",
    "    basis_value = bob_bases[bit]\n",
    "    basis_gate = basis_gates[basis_value]\n",
    "\n",
    "    qubit = qubits[bit]\n",
    "    bob_circuit.append(basis_gate(qubit))\n",
    "    \n",
    "bob_circuit.append(cirq.measure(qubits, key = 'bob key'))\n",
    "bob_circuit"
   ]
  },
  {
   "cell_type": "markdown",
   "metadata": {},
   "source": [
    "### Create Bob key"
   ]
  },
  {
   "cell_type": "markdown",
   "metadata": {},
   "source": []
  },
  {
   "cell_type": "code",
   "execution_count": 52,
   "metadata": {},
   "outputs": [
    {
     "name": "stdout",
     "output_type": "stream",
     "text": [
      "[0 1 0 0 0 1 1 1 1 1]\n"
     ]
    }
   ],
   "source": [
    "bb84_circuit = alice_circuit + bob_circuit\n",
    "\n",
    "sim = cirq.Simulator()\n",
    "results = sim.run(bb84_circuit)\n",
    "bob_key = results.measurements['bob key'][0]\n",
    "print(bob_key)"
   ]
  },
  {
   "cell_type": "markdown",
   "metadata": {},
   "source": [
    "### Create final shared key"
   ]
  },
  {
   "cell_type": "code",
   "execution_count": 53,
   "metadata": {},
   "outputs": [
    {
     "data": {
      "text/plain": [
       "[1, 0, 0, 0, 1, 1]"
      ]
     },
     "execution_count": 53,
     "metadata": {},
     "output_type": "execute_result"
    }
   ],
   "source": [
    "final_alice_key = []\n",
    "final_bob_key = []\n",
    "\n",
    "for bit in range(num_bits):\n",
    "    if alice_bases[bit] == bob_bases[bit]:\n",
    "        final_alice_key.append(alice_key[bit])\n",
    "        final_bob_key.append(bob_key[bit])\n",
    "final_alice_key\n"
   ]
  },
  {
   "cell_type": "markdown",
   "metadata": {},
   "source": [
    "### Check if the bases match\n",
    "* Only the first two items in the bases will be used to check whether the bases match\n",
    "* In the case that the bases are found to match, the first two items will be discarded because they were sent through a public channel and thus may be exposed to eavesdroppers"
   ]
  },
  {
   "cell_type": "code",
   "execution_count": 59,
   "metadata": {},
   "outputs": [
    {
     "name": "stdout",
     "output_type": "stream",
     "text": [
      "We can use our keys!\n"
     ]
    }
   ],
   "source": [
    "if final_alice_key[0] == final_bob_key[0] and final_alice_key[1] == final_bob_key[1]:\n",
    "    final_alice_key = final_alice_key[2:]\n",
    "    final_bob_key = final_bob_key[2:]\n",
    "\n",
    "    print('We can use our keys!')\n",
    "\n",
    "else:\n",
    " print('Eve was listening, we need to use a different channel!')"
   ]
  },
  {
   "cell_type": "markdown",
   "metadata": {},
   "source": [
    "### Encrypt Alice Key using character-by-character encoding\n",
    "* This encryption method involves converting each character in my message string to its binary representation (ASCII or Unicode depending on the character ).\n",
    "* Then, an XOR gate is applied on each character with its corresponding 1 or 0 in the key. The XOR gate is picked because it is easily reversable - applying two XOR gates will yield the original result, making decryption easy.\n",
    "* As an example, say that the message to encrypt is \"quantum\" and the Alice's randomly-generated encryption key is [1, 0, 0, 1, 0, 1, 1, 1]. The _encode_ function will output \"puaottl\". Next, if I run _decode(\"puaottl\", [1, 0, 0, 1, 0, 1, 1, 1])_, the output will return back to \"quantum\"."
   ]
  },
  {
   "cell_type": "code",
   "execution_count": 54,
   "metadata": {},
   "outputs": [],
   "source": [
    "def encode(message, key):\n",
    "    encoded_message = \"\"\n",
    "    for i in range(len(message)):\n",
    "        char = message[i]\n",
    "        key_code = key[i % len(key)]  # Cycle through the key list\n",
    "        char_code = ord(char) # Convert characters in message to integer codes (ASCII/Unicode)\n",
    "        encoded_code = char_code ^ key_code # Perform  XOR on the codes\n",
    "        encoded_char = chr(encoded_code) # Convert the encoded code back to a character\n",
    "        encoded_message += encoded_char # Add encoded letter to encrypted message\n",
    "    return encoded_message\n",
    "\n",
    "def decode(encoded_message, key):\n",
    "    return encode(encoded_message, key)  # Reuse for decoding"
   ]
  },
  {
   "cell_type": "code",
   "execution_count": 55,
   "metadata": {},
   "outputs": [
    {
     "name": "stdout",
     "output_type": "stream",
     "text": [
      "puaottl\n",
      "quantum\n"
     ]
    }
   ],
   "source": [
    "# Example Usage of encode() and decode()\n",
    "\n",
    "example_key = [1, 0, 0, 1, 0, 1, 1, 1]\n",
    "encoded_msg = encode(\"quantum\", example_key)\n",
    "decoded_msg = decode(encoded_msg, example_key)\n",
    "print(encoded_msg)\n",
    "print(decoded_msg)\n"
   ]
  },
  {
   "cell_type": "code",
   "execution_count": 56,
   "metadata": {},
   "outputs": [
    {
     "data": {
      "text/plain": [
       "'Puanutl Colqttinf'"
      ]
     },
     "execution_count": 56,
     "metadata": {},
     "output_type": "execute_result"
    }
   ],
   "source": [
    "#Encode our message\n",
    "encoded_msg = encode(message, final_alice_key)\n",
    "encoded_msg"
   ]
  },
  {
   "cell_type": "markdown",
   "metadata": {},
   "source": [
    "### Send Bob the encoded message\n",
    "> _Vroom Vroom Vroom!_"
   ]
  },
  {
   "cell_type": "markdown",
   "metadata": {},
   "source": [
    "### Bob decrypts the encoded message"
   ]
  },
  {
   "cell_type": "code",
   "execution_count": 57,
   "metadata": {},
   "outputs": [
    {
     "data": {
      "text/plain": [
       "'Quantum Computing'"
      ]
     },
     "execution_count": 57,
     "metadata": {},
     "output_type": "execute_result"
    }
   ],
   "source": [
    "decoded_msg = decode(encoded_msg, final_bob_key)\n",
    "decoded_msg"
   ]
  },
  {
   "cell_type": "markdown",
   "metadata": {},
   "source": []
  }
 ],
 "metadata": {
  "kernelspec": {
   "display_name": "base",
   "language": "python",
   "name": "python3"
  },
  "language_info": {
   "codemirror_mode": {
    "name": "ipython",
    "version": 3
   },
   "file_extension": ".py",
   "mimetype": "text/x-python",
   "name": "python",
   "nbconvert_exporter": "python",
   "pygments_lexer": "ipython3",
   "version": "3.8.8"
  }
 },
 "nbformat": 4,
 "nbformat_minor": 2
}
