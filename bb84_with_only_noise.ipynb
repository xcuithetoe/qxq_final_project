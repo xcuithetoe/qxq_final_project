{
 "cells": [
  {
   "cell_type": "markdown",
   "metadata": {},
   "source": [
    "### Alice creates her key, encodes it with her bases, and tries to send it to Bob"
   ]
  },
  {
   "cell_type": "code",
   "execution_count": 1,
   "metadata": {},
   "outputs": [
    {
     "name": "stdout",
     "output_type": "stream",
     "text": [
      "Alice Key:  [1, 1, 0, 0, 1, 1, 1, 0, 0, 0, 0, 0, 1, 0, 0, 0, 0, 1, 0, 0]\n",
      "Alice Bases:  ['Z', 'Z', 'X', 'X', 'Z', 'Z', 'X', 'X', 'X', 'Z', 'Z', 'Z', 'X', 'Z', 'Z', 'X', 'X', 'Z', 'Z', 'X']\n"
     ]
    }
   ],
   "source": [
    "from random import choices\n",
    "import cirq\n",
    "\n",
    "num_bits = 20\n",
    "\n",
    "encode_gates = {0: cirq.I, 1: cirq.X} # Gates that produce the 0 and 1 quantums states, which represents the keys\n",
    "basis_gates = {\"Z\": cirq.I, \"X\": cirq.H} # Gates that will create the correct qubit encryption\n",
    "\n",
    "message = \"Quantum Computing\"\n",
    "\n",
    "alice_key = choices([0, 1], k = num_bits)\n",
    "print(\"Alice Key: \", alice_key)\n",
    "alice_bases = choices(['Z', 'X'], k = num_bits)\n",
    "print(\"Alice Bases: \", alice_bases)\n",
    "\n",
    "alice_circuit = cirq.Circuit()\n",
    "qubits = cirq.NamedQubit.range(num_bits, prefix = 'q')\n",
    "\n",
    "for bit in range(num_bits):\n",
    "\n",
    " encode_value = alice_key[bit]\n",
    " encode_gate = encode_gates[encode_value]\n",
    "\n",
    " basis_value = alice_bases[bit]\n",
    " basis_gate = basis_gates[basis_value]\n",
    "\n",
    " qubit = qubits[bit]\n",
    " alice_circuit.append(encode_gate(qubit))\n",
    " alice_circuit.append(basis_gate(qubit))"
   ]
  },
  {
   "cell_type": "markdown",
   "metadata": {},
   "source": [
    "### Alice sends her encrypted key to Bob, IN A NOISY ENVIRONMENT!"
   ]
  },
  {
   "cell_type": "code",
   "execution_count": 3,
   "metadata": {},
   "outputs": [
    {
     "name": "stdout",
     "output_type": "stream",
     "text": [
      "q0: ────D(0.05)───\n",
      "\n",
      "q1: ────D(0.05)───\n",
      "\n",
      "q2: ────D(0.05)───\n",
      "\n",
      "q3: ────D(0.05)───\n",
      "\n",
      "q4: ────D(0.05)───\n",
      "\n",
      "q5: ────D(0.05)───\n",
      "\n",
      "q6: ────D(0.05)───\n",
      "\n",
      "q7: ────D(0.05)───\n",
      "\n",
      "q8: ────D(0.05)───\n",
      "\n",
      "q9: ────D(0.05)───\n",
      "\n",
      "q10: ───D(0.05)───\n",
      "\n",
      "q11: ───D(0.05)───\n",
      "\n",
      "q12: ───D(0.05)───\n",
      "\n",
      "q13: ───D(0.05)───\n",
      "\n",
      "q14: ───D(0.05)───\n",
      "\n",
      "q15: ───D(0.05)───\n",
      "\n",
      "q16: ───D(0.05)───\n",
      "\n",
      "q17: ───D(0.05)───\n",
      "\n",
      "q18: ───D(0.05)───\n",
      "\n",
      "q19: ───D(0.05)───\n"
     ]
    }
   ],
   "source": [
    "noisy_circuit = cirq.Circuit()\n",
    "qubits = cirq.NamedQubit.range(num_bits, prefix = 'q')\n",
    "\n",
    "noise = cirq.depolarize(0.05)\n",
    "noisy_circuit.append(noise.on_each(qubits))\n",
    "\n",
    "print(noisy_circuit)"
   ]
  },
  {
   "cell_type": "markdown",
   "metadata": {},
   "source": [
    "### Create Bob's decryption circuit"
   ]
  },
  {
   "cell_type": "code",
   "execution_count": 5,
   "metadata": {},
   "outputs": [
    {
     "data": {
      "text/html": [
       "<pre style=\"overflow: auto; white-space: pre;\">q0: ────H───M(&#x27;bob key&#x27;)───\n",
       "            │\n",
       "q1: ────H───M──────────────\n",
       "            │\n",
       "q2: ────I───M──────────────\n",
       "            │\n",
       "q3: ────H───M──────────────\n",
       "            │\n",
       "q4: ────I───M──────────────\n",
       "            │\n",
       "q5: ────I───M──────────────\n",
       "            │\n",
       "q6: ────H───M──────────────\n",
       "            │\n",
       "q7: ────I───M──────────────\n",
       "            │\n",
       "q8: ────H───M──────────────\n",
       "            │\n",
       "q9: ────I───M──────────────\n",
       "            │\n",
       "q10: ───I───M──────────────\n",
       "            │\n",
       "q11: ───I───M──────────────\n",
       "            │\n",
       "q12: ───I───M──────────────\n",
       "            │\n",
       "q13: ───H───M──────────────\n",
       "            │\n",
       "q14: ───H───M──────────────\n",
       "            │\n",
       "q15: ───H───M──────────────\n",
       "            │\n",
       "q16: ───H───M──────────────\n",
       "            │\n",
       "q17: ───H───M──────────────\n",
       "            │\n",
       "q18: ───H───M──────────────\n",
       "            │\n",
       "q19: ───H───M──────────────</pre>"
      ],
      "text/plain": [
       "q0: ────H───M('bob key')───\n",
       "            │\n",
       "q1: ────H───M──────────────\n",
       "            │\n",
       "q2: ────I───M──────────────\n",
       "            │\n",
       "q3: ────H───M──────────────\n",
       "            │\n",
       "q4: ────I───M──────────────\n",
       "            │\n",
       "q5: ────I───M──────────────\n",
       "            │\n",
       "q6: ────H───M──────────────\n",
       "            │\n",
       "q7: ────I───M──────────────\n",
       "            │\n",
       "q8: ────H───M──────────────\n",
       "            │\n",
       "q9: ────I───M──────────────\n",
       "            │\n",
       "q10: ───I───M──────────────\n",
       "            │\n",
       "q11: ───I───M──────────────\n",
       "            │\n",
       "q12: ───I───M──────────────\n",
       "            │\n",
       "q13: ───H───M──────────────\n",
       "            │\n",
       "q14: ───H───M──────────────\n",
       "            │\n",
       "q15: ───H───M──────────────\n",
       "            │\n",
       "q16: ───H───M──────────────\n",
       "            │\n",
       "q17: ───H───M──────────────\n",
       "            │\n",
       "q18: ───H───M──────────────\n",
       "            │\n",
       "q19: ───H───M──────────────"
      ]
     },
     "execution_count": 5,
     "metadata": {},
     "output_type": "execute_result"
    }
   ],
   "source": [
    "bob_circuit = cirq.Circuit()\n",
    "bob_bases = choices(['Z', 'X'], k = num_bits)\n",
    "for bit in range(num_bits):\n",
    "    basis_value = bob_bases[bit]\n",
    "    basis_gate = basis_gates[basis_value]\n",
    "\n",
    "    qubit = qubits[bit]\n",
    "    bob_circuit.append(basis_gate(qubit))\n",
    "    \n",
    "bob_circuit.append(cirq.measure(qubits, key = 'bob key'))\n",
    "bob_circuit"
   ]
  },
  {
   "cell_type": "markdown",
   "metadata": {},
   "source": [
    "### Create Bob key"
   ]
  },
  {
   "cell_type": "code",
   "execution_count": 6,
   "metadata": {},
   "outputs": [
    {
     "name": "stdout",
     "output_type": "stream",
     "text": [
      "q0: ────X───I───D(0.05)───H───M('bob key')───\n",
      "                              │\n",
      "q1: ────X───I───D(0.05)───H───M──────────────\n",
      "                              │\n",
      "q2: ────I───H───D(0.05)───I───M──────────────\n",
      "                              │\n",
      "q3: ────I───H───D(0.05)───H───M──────────────\n",
      "                              │\n",
      "q4: ────X───I───D(0.05)───I───M──────────────\n",
      "                              │\n",
      "q5: ────X───I───D(0.05)───I───M──────────────\n",
      "                              │\n",
      "q6: ────X───H───D(0.05)───H───M──────────────\n",
      "                              │\n",
      "q7: ────I───H───D(0.05)───I───M──────────────\n",
      "                              │\n",
      "q8: ────I───H───D(0.05)───H───M──────────────\n",
      "                              │\n",
      "q9: ────I───I───D(0.05)───I───M──────────────\n",
      "                              │\n",
      "q10: ───I───I───D(0.05)───I───M──────────────\n",
      "                              │\n",
      "q11: ───I───I───D(0.05)───I───M──────────────\n",
      "                              │\n",
      "q12: ───X───H───D(0.05)───I───M──────────────\n",
      "                              │\n",
      "q13: ───I───I───D(0.05)───H───M──────────────\n",
      "                              │\n",
      "q14: ───I───I───D(0.05)───H───M──────────────\n",
      "                              │\n",
      "q15: ───I───H───D(0.05)───H───M──────────────\n",
      "                              │\n",
      "q16: ───I───H───D(0.05)───H───M──────────────\n",
      "                              │\n",
      "q17: ───X───I───D(0.05)───H───M──────────────\n",
      "                              │\n",
      "q18: ───I───I───D(0.05)───H───M──────────────\n",
      "                              │\n",
      "q19: ───I───H───D(0.05)───H───M──────────────\n",
      "[1 1 1 0 1 0 1 1 0 0 0 0 0 0 0 0 0 0 1 0]\n"
     ]
    }
   ],
   "source": [
    "bb84_circuit = alice_circuit + noisy_circuit + bob_circuit\n",
    "\n",
    "print(bb84_circuit)\n",
    "sim = cirq.Simulator()\n",
    "results = sim.run(bb84_circuit)\n",
    "bob_key = results.measurements['bob key'][0]\n",
    "\n",
    "\n",
    "print(bob_key)"
   ]
  },
  {
   "cell_type": "markdown",
   "metadata": {},
   "source": [
    "### Simulate the circuit, create final shared keys, and compare how similar the keys are\n",
    "* Ok, I know I'm smooshing a lot of stuff into one big function. I'll probably fix this later "
   ]
  },
  {
   "cell_type": "code",
   "execution_count": 8,
   "metadata": {},
   "outputs": [
    {
     "name": "stdout",
     "output_type": "stream",
     "text": [
      "The percentage of values in Alice and Bob's shared keys that match is  95.81818181818177 %\n"
     ]
    },
    {
     "data": {
      "image/png": "[encoded data removed]",
      "text/plain": [
       "<Figure size 432x288 with 1 Axes>"
      ]
     },
     "metadata": {
      "needs_background": "light"
     },
     "output_type": "display_data"
    }
   ],
   "source": [
    "def simulate():\n",
    "    '''\n",
    "    Create Bob's key\n",
    "    '''\n",
    "    sim = cirq.Simulator()\n",
    "    results = sim.run(bb84_circuit)\n",
    "    bob_key = results.measurements['bob key'][0]\n",
    "    \n",
    "    '''\n",
    "    Create final shared keys\n",
    "    '''\n",
    "    final_alice_key = []\n",
    "    final_bob_key = []\n",
    "\n",
    "    for bit in range(num_bits):\n",
    "        if alice_bases[bit] == bob_bases[bit]:\n",
    "            final_alice_key.append(alice_key[bit])\n",
    "            final_bob_key.append(bob_key[bit])\n",
    "\n",
    "    '''\n",
    "    Create the percentage of same elements in Alice and Bob's respective keys\n",
    "    '''    \n",
    "    total_agree = 0\n",
    "    for i in range(len(final_bob_key)):\n",
    "        if final_bob_key[i]==final_alice_key[i]:\n",
    "            total_agree += 1\n",
    "    return (total_agree/len(final_alice_key))\n",
    "\n",
    " \n",
    "num_runs = 50\n",
    "percentages = []\n",
    "for i in range(num_runs):\n",
    "    percentages.append(simulate())\n",
    "\n",
    "import matplotlib.pyplot as plt\n",
    "\n",
    "def bar_chart(percentage_list):\n",
    "    # Define the x-axis values as indices of the list\n",
    "    x_values = range(len(percentage_list))\n",
    "    average_percentage = sum(percentage_list) / len(percentage_list)\n",
    "    print(\"The percentage of values in Alice and Bob's shared keys that match is \" , (average_percentage*100), \"%\")\n",
    "    # Create a bar chart\n",
    "    plt.bar(x_values, percentage_list, color='skyblue')\n",
    "    \n",
    "    # Add labels and title\n",
    "    plt.xlabel('Simulation Index')\n",
    "    plt.ylabel('Percentage')\n",
    "    plt.title('Percent similarity between Alice and Bob keys without eavesdropper')\n",
    "    \n",
    "    plt.axhline(y=average_percentage, color='red', linestyle='--', label=f'Average: {average_percentage*100:.1f}%')\n",
    "    # Show plot\n",
    "    plt.show()\n",
    "\n",
    "bar_chart(percentages)\n"
   ]
  },
  {
   "cell_type": "markdown",
   "metadata": {},
   "source": [
    "### Ok, so 5% depolarizing noise yields 95% similarity in the keys. Thats ok..."
   ]
  },
  {
   "cell_type": "markdown",
   "metadata": {},
   "source": [
    "### ... Let's try 25% depolarizing noise!"
   ]
  },
  {
   "cell_type": "code",
   "execution_count": 10,
   "metadata": {},
   "outputs": [
    {
     "name": "stdout",
     "output_type": "stream",
     "text": [
      "q0: ────X───I───D(0.25)───H───M('bob key')───\n",
      "                              │\n",
      "q1: ────X───I───D(0.25)───H───M──────────────\n",
      "                              │\n",
      "q2: ────I───H───D(0.25)───I───M──────────────\n",
      "                              │\n",
      "q3: ────I───H───D(0.25)───H───M──────────────\n",
      "                              │\n",
      "q4: ────X───I───D(0.25)───I───M──────────────\n",
      "                              │\n",
      "q5: ────X───I───D(0.25)───I───M──────────────\n",
      "                              │\n",
      "q6: ────X───H───D(0.25)───H───M──────────────\n",
      "                              │\n",
      "q7: ────I───H───D(0.25)───I───M──────────────\n",
      "                              │\n",
      "q8: ────I───H───D(0.25)───H───M──────────────\n",
      "                              │\n",
      "q9: ────I───I───D(0.25)───I───M──────────────\n",
      "                              │\n",
      "q10: ───I───I───D(0.25)───I───M──────────────\n",
      "                              │\n",
      "q11: ───I───I───D(0.25)───I───M──────────────\n",
      "                              │\n",
      "q12: ───X───H───D(0.25)───I───M──────────────\n",
      "                              │\n",
      "q13: ───I───I───D(0.25)───H───M──────────────\n",
      "                              │\n",
      "q14: ───I───I───D(0.25)───H───M──────────────\n",
      "                              │\n",
      "q15: ───I───H───D(0.25)───H───M──────────────\n",
      "                              │\n",
      "q16: ───I───H───D(0.25)───H───M──────────────\n",
      "                              │\n",
      "q17: ───X───I───D(0.25)───H───M──────────────\n",
      "                              │\n",
      "q18: ───I───I───D(0.25)───H───M──────────────\n",
      "                              │\n",
      "q19: ───I───H───D(0.25)───H───M──────────────\n",
      "The percentage of values in Alice and Bob's shared keys that match is  82.90909090909088 %\n"
     ]
    },
    {
     "data": {
      "image/png": "[encoded data removed]",
      "text/plain": [
       "<Figure size 432x288 with 1 Axes>"
      ]
     },
     "metadata": {
      "needs_background": "light"
     },
     "output_type": "display_data"
    }
   ],
   "source": [
    "noisy_circuit = cirq.Circuit()\n",
    "qubits = cirq.NamedQubit.range(num_bits, prefix = 'q')\n",
    "\n",
    "noise = cirq.depolarize(0.25)\n",
    "noisy_circuit.append(noise.on_each(qubits))\n",
    "\n",
    "bb84_circuit = alice_circuit + noisy_circuit + bob_circuit\n",
    "\n",
    "print(bb84_circuit)\n",
    "sim = cirq.Simulator()\n",
    "results = sim.run(bb84_circuit)\n",
    "bob_key = results.measurements['bob key'][0]\n",
    "\n",
    "num_runs = 50\n",
    "percentages = []\n",
    "for i in range(num_runs):\n",
    "    percentages.append(simulate())\n",
    "\n",
    "import matplotlib.pyplot as plt\n",
    "\n",
    "def bar_chart(percentage_list):\n",
    "    # Define the x-axis values as indices of the list\n",
    "    x_values = range(len(percentage_list))\n",
    "    average_percentage = sum(percentage_list) / len(percentage_list)\n",
    "    print(\"The percentage of values in Alice and Bob's shared keys that match is \" , (average_percentage*100), \"%\")\n",
    "    # Create a bar chart\n",
    "    plt.bar(x_values, percentage_list, color='skyblue')\n",
    "    \n",
    "    # Add labels and title\n",
    "    plt.xlabel('Simulation Index')\n",
    "    plt.ylabel('Percentage')\n",
    "    plt.title('Percent similarity between Alice and Bob keys without eavesdropper')\n",
    "    \n",
    "    plt.axhline(y=average_percentage, color='red', linestyle='--', label=f'Average: {average_percentage*100:.1f}%')\n",
    "    # Show plot\n",
    "    plt.show()\n",
    "\n",
    "bar_chart(percentages)"
   ]
  },
  {
   "cell_type": "markdown",
   "metadata": {},
   "source": [
    "### Ok, so 25% depolarizing noise yields around 80% similarity. Still not so bad!"
   ]
  },
  {
   "cell_type": "markdown",
   "metadata": {},
   "source": [
    "### analysis to be continued"
   ]
  }
 ],
 "metadata": {
  "kernelspec": {
   "display_name": "base",
   "language": "python",
   "name": "python3"
  },
  "language_info": {
   "codemirror_mode": {
    "name": "ipython",
    "version": 3
   },
   "file_extension": ".py",
   "mimetype": "text/x-python",
   "name": "python",
   "nbconvert_exporter": "python",
   "pygments_lexer": "ipython3",
   "version": "3.8.8"
  }
 },
 "nbformat": 4,
 "nbformat_minor": 2
}
